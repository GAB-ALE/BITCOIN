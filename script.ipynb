{
 "cells": [
  {
   "cell_type": "code",
   "execution_count": 1,
   "id": "7f3b1f41-3b39-4e80-88aa-5c05e5c5da7d",
   "metadata": {},
   "outputs": [
    {
     "name": "stdout",
     "output_type": "stream",
     "text": [
      "Libraries imported.\n"
     ]
    }
   ],
   "source": [
    "import numpy as np # library to handle data in a vectorized manner\n",
    "\n",
    "import pandas as pd # library for data analsysis\n",
    "pd.set_option('display.max_columns', None)\n",
    "pd.set_option('display.max_rows', None)\n",
    "\n",
    "import json # library to handle JSON files\n",
    "import requests # library to handle requests\n",
    "from pandas.io.json import json_normalize # tranform JSON file into a pandas dataframe\n",
    "\n",
    "# Matplotlib and associated plotting modules\n",
    "#import matplotlib.cm as cm\n",
    "#import matplotlib.colors as colors\n",
    "\n",
    "print('Libraries imported.')"
   ]
  },
  {
   "cell_type": "code",
   "execution_count": 2,
   "id": "a66d8701-7f4a-4593-a7fd-5154e2bca495",
   "metadata": {},
   "outputs": [
    {
     "name": "stdout",
     "output_type": "stream",
     "text": [
      "Note: you may need to restart the kernel to use updated packages.\n"
     ]
    }
   ],
   "source": [
    "pip install lxml -q"
   ]
  },
  {
   "cell_type": "code",
   "execution_count": 3,
   "id": "1a020a75-755f-479d-a2d8-5d038a3069dc",
   "metadata": {},
   "outputs": [
    {
     "name": "stdout",
     "output_type": "stream",
     "text": [
      "Note: you may need to restart the kernel to use updated packages.\n"
     ]
    }
   ],
   "source": [
    "pip install bs4 -q"
   ]
  },
  {
   "cell_type": "code",
   "execution_count": 4,
   "id": "d80b69d5-f70a-4422-a108-3b0effab0ef8",
   "metadata": {},
   "outputs": [],
   "source": [
    "from bs4 import BeautifulSoup"
   ]
  },
  {
   "cell_type": "code",
   "execution_count": 5,
   "id": "91fcd00e-8548-46e0-864d-1141d7c942fc",
   "metadata": {},
   "outputs": [],
   "source": [
    "from sklearn.cluster import KMeans\n",
    "import matplotlib.pyplot as plt\n",
    "import seaborn as sns\n",
    "import re\n",
    "pd.set_option(\"display.max_rows\", 999)\n",
    "pd.options.display.max_colwidth = 100"
   ]
  },
  {
   "cell_type": "code",
   "execution_count": 6,
   "id": "3f5620e8-0139-4f64-bf94-7660629d2067",
   "metadata": {},
   "outputs": [],
   "source": [
    "import lxml"
   ]
  },
  {
   "cell_type": "markdown",
   "id": "7e6ec1d9-fefc-44e7-a120-ff6371b6edd1",
   "metadata": {},
   "source": [
    "Scarica portafogli prima pagina poiché indirizzo strutturato diversamente rispetto alle successive"
   ]
  },
  {
   "cell_type": "code",
   "execution_count": 7,
   "id": "5c514672-e3c2-4862-82f3-310b1e3fce7b",
   "metadata": {},
   "outputs": [
    {
     "name": "stdout",
     "output_type": "stream",
     "text": [
      "https://bitinfocharts.com/top-100-richest-bitcoin-addresses.html\n"
     ]
    }
   ],
   "source": [
    "urlinit='https://bitinfocharts.com/top-100-richest-bitcoin-addresses.html'\n",
    "columns = ['0','Address','Balance','% of coins', 'First In','Last In','Number Of Ins','First Out','Last Out', 'Number of Outs']\n",
    "result = pd.DataFrame(columns=columns)\n",
    "page = requests.get(urlinit).text\n",
    "doc = BeautifulSoup(page, 'html.parser')\n",
    "print(urlinit)\n",
    "address = doc.find('table')\n",
    "table = doc.find_all('table')\n",
    "df1 = pd.read_html(str(table))[2]\n",
    "df1.columns = ['0','Address','Balance','% of coins', 'First In','Last In','Number Of Ins','First Out','Last Out', 'Number of Outs']\n",
    "table2 = doc.find_all('table')\n",
    "df2 = pd.read_html(str(table))[3]\n",
    "df2.columns = ['0','Address','Balance','% of coins', 'First In','Last In','Number Of Ins','First Out','Last Out', 'Number of Outs']\n",
    "df3 = pd.concat([df1, df2], axis=0,ignore_index=True)\n",
    "result=df3"
   ]
  },
  {
   "cell_type": "code",
   "execution_count": 8,
   "id": "1baab8ac-9fed-4ff1-bd8e-796e0bc86da1",
   "metadata": {},
   "outputs": [
    {
     "name": "stdout",
     "output_type": "stream",
     "text": [
      "<table class=\"table table-condensed bb\" style=\"max-width:1000px;text-align:center; width: inherit;\"><caption>Bitcoin distribution</caption><thead> <tr><th>Balance, BTC</th><th>Addresses</th><th class=\"hidden-phone\">% Addresses (Total)</th><th>Coins</th><th>USD</th><th class=\"hidden-phone\">% Coins (Total)</th></tr> </thead> <tbody><tr><td>(0 - 0.001)</td><td data-val=\"19744546\">19744546</td><td class=\"hidden-phone\" data-val=\"100\">51.09% (100%)</td><td data-val=\"4118.64723573\">4,119 BTC</td><td data-val=\"4118.64723573\">$190,280,907</td><td class=\"hidden-phone\" data-val=\"100\">0.02% (100%)</td></tr><tr><td>[0.001 - 0.01)</td><td data-val=\"9793875\">9793875</td><td class=\"hidden-phone\" data-val=\"49\">25.34% (48.91%)</td><td data-val=\"36927.2854739\">36,927 BTC</td><td data-val=\"36927.2854739\">$1,706,035,252</td><td class=\"hidden-phone\" data-val=\"100\">0.2% (99.98%)</td></tr><tr><td>[0.01 - 0.1)</td><td data-val=\"5878755\">5878755</td><td class=\"hidden-phone\" data-val=\"24\">15.21% (23.57%)</td><td data-val=\"190977.8461801\">190,978 BTC</td><td data-val=\"190977.8461801\">$8,823,148,894</td><td class=\"hidden-phone\" data-val=\"100\">1.02% (99.78%)</td></tr><tr><td>[0.1 - 1)</td><td data-val=\"2421003\">2421003</td><td class=\"hidden-phone\" data-val=\"8\">6.26% (8.35%)</td><td data-val=\"755176.92800329\">755,177 BTC</td><td data-val=\"755176.92800329\">$34,889,064,937</td><td class=\"hidden-phone\" data-val=\"99\">4.02% (98.77%)</td></tr><tr><td>[1 - 10)</td><td data-val=\"660301\">660301</td><td class=\"hidden-phone\" data-val=\"2\">1.71% (2.09%)</td><td data-val=\"1691256.9702127\">1,691,257 BTC</td><td data-val=\"1691256.9702127\">$78,135,827,606</td><td class=\"hidden-phone\" data-val=\"95\">8.99% (94.75%)</td></tr><tr><td>[10 - 100)</td><td data-val=\"131187\">131187</td><td class=\"hidden-phone\" data-val=\"0\">0.34% (0.38%)</td><td data-val=\"4255197.760164\">4,255,198 BTC</td><td data-val=\"4255197.760164\">$196,589,521,564</td><td class=\"hidden-phone\" data-val=\"86\">22.63% (85.76%)</td></tr><tr><td>[100 - 1,000)</td><td data-val=\"13815\">13815</td><td class=\"hidden-phone\" data-val=\"0\">0.04% (0.04%)</td><td data-val=\"3918605.1953882\">3,918,605 BTC</td><td data-val=\"3918605.1953882\">$181,038,993,716</td><td class=\"hidden-phone\" data-val=\"63\">20.84% (63.13%)</td></tr><tr><td>[1,000 - 10,000)</td><td data-val=\"2059\">2059</td><td class=\"hidden-phone\" data-val=\"0\">0.01% (0.01%)</td><td data-val=\"5264222.595934\">5,264,223 BTC</td><td data-val=\"5264222.595934\">$243,206,323,154</td><td class=\"hidden-phone\" data-val=\"42\">27.99% (42.3%)</td></tr><tr><td>[10,000 - 100,000)</td><td data-val=\"80\">80</td><td class=\"hidden-phone\" data-val=\"0\">0% (0%)</td><td data-val=\"2115800.9890016\">2,115,801 BTC</td><td data-val=\"2115800.9890016\">$97,749,699,919</td><td class=\"hidden-phone\" data-val=\"14\">11.25% (14.31%)</td></tr><tr><td>[100,000 - 1,000,000)</td><td data-val=\"3\">3</td><td class=\"hidden-phone\" data-val=\"0\">0% (0%)</td><td data-val=\"575060.7841858\">575,061 BTC</td><td data-val=\"575060.7841858\">$26,567,725,122</td><td class=\"hidden-phone\" data-val=\"3\">3.06% (3.06%)</td></tr></tbody></table>\n"
     ]
    }
   ],
   "source": [
    "print(address)"
   ]
  },
  {
   "cell_type": "markdown",
   "id": "b18e07c6-378a-421f-bbc8-dd33d31dbd1a",
   "metadata": {},
   "source": [
    "Scarica portafogli da pagine successive, primi 2000 portafogli per dimensione"
   ]
  },
  {
   "cell_type": "code",
   "execution_count": 9,
   "id": "e5be3467-a9d9-4526-ac14-84a5ec9f6e4c",
   "metadata": {},
   "outputs": [
    {
     "name": "stdout",
     "output_type": "stream",
     "text": [
      "https://bitinfocharts.com/top-100-richest-bitcoin-addresses-2.html\n",
      "https://bitinfocharts.com/top-100-richest-bitcoin-addresses-3.html\n",
      "https://bitinfocharts.com/top-100-richest-bitcoin-addresses-4.html\n",
      "https://bitinfocharts.com/top-100-richest-bitcoin-addresses-5.html\n",
      "https://bitinfocharts.com/top-100-richest-bitcoin-addresses-6.html\n",
      "https://bitinfocharts.com/top-100-richest-bitcoin-addresses-7.html\n",
      "https://bitinfocharts.com/top-100-richest-bitcoin-addresses-8.html\n",
      "https://bitinfocharts.com/top-100-richest-bitcoin-addresses-9.html\n",
      "https://bitinfocharts.com/top-100-richest-bitcoin-addresses-10.html\n",
      "https://bitinfocharts.com/top-100-richest-bitcoin-addresses-11.html\n",
      "https://bitinfocharts.com/top-100-richest-bitcoin-addresses-12.html\n",
      "https://bitinfocharts.com/top-100-richest-bitcoin-addresses-13.html\n",
      "https://bitinfocharts.com/top-100-richest-bitcoin-addresses-14.html\n",
      "https://bitinfocharts.com/top-100-richest-bitcoin-addresses-15.html\n",
      "https://bitinfocharts.com/top-100-richest-bitcoin-addresses-16.html\n",
      "https://bitinfocharts.com/top-100-richest-bitcoin-addresses-17.html\n",
      "https://bitinfocharts.com/top-100-richest-bitcoin-addresses-18.html\n",
      "https://bitinfocharts.com/top-100-richest-bitcoin-addresses-19.html\n",
      "https://bitinfocharts.com/top-100-richest-bitcoin-addresses-20.html\n",
      "Finally finished!\n"
     ]
    }
   ],
   "source": [
    "url1='https://bitinfocharts.com/top-100-richest-bitcoin-addresses-'\n",
    "url2='.html'\n",
    "columns = ['0','Address','Balance','% of coins', 'First In','Last In','Number Of Ins','First Out','Last Out', 'Number of Outs']\n",
    "#result = pd.DataFrame(columns=columns)\n",
    "\n",
    "for x in range(2,21):\n",
    "        url3=url1+str(x)+url2\n",
    "        page = requests.get(url3).text\n",
    "        doc = BeautifulSoup(page, 'html.parser')\n",
    "        print(url3)\n",
    "        address = doc.find('table')\n",
    "        table = doc.find_all('table')\n",
    "        df1 = pd.read_html(str(table))[0]\n",
    "        df1.columns = ['0','Address','Balance','% of coins', 'First In','Last In','Number Of Ins','First Out','Last Out', 'Number of Outs']\n",
    "        table2 = doc.find_all('table')\n",
    "        df2 = pd.read_html(str(table))[1]\n",
    "        df2.columns = ['0','Address','Balance','% of coins', 'First In','Last In','Number Of Ins','First Out','Last Out', 'Number of Outs']\n",
    "        df3 = pd.concat([df1, df2], axis=0,ignore_index=True)\n",
    "        result = pd.concat([result, df3], axis=0,ignore_index=True)\n",
    "else:\n",
    "  print(\"Finally finished!\") "
   ]
  },
  {
   "cell_type": "code",
   "execution_count": 10,
   "id": "58a9baec-e2ba-48e9-88f4-18943bb01dc8",
   "metadata": {},
   "outputs": [
    {
     "data": {
      "text/html": [
       "<div>\n",
       "<style scoped>\n",
       "    .dataframe tbody tr th:only-of-type {\n",
       "        vertical-align: middle;\n",
       "    }\n",
       "\n",
       "    .dataframe tbody tr th {\n",
       "        vertical-align: top;\n",
       "    }\n",
       "\n",
       "    .dataframe thead th {\n",
       "        text-align: right;\n",
       "    }\n",
       "</style>\n",
       "<table border=\"1\" class=\"dataframe\">\n",
       "  <thead>\n",
       "    <tr style=\"text-align: right;\">\n",
       "      <th></th>\n",
       "      <th>0</th>\n",
       "      <th>Address</th>\n",
       "      <th>Balance</th>\n",
       "      <th>% of coins</th>\n",
       "      <th>First In</th>\n",
       "      <th>Last In</th>\n",
       "      <th>Number Of Ins</th>\n",
       "      <th>First Out</th>\n",
       "      <th>Last Out</th>\n",
       "      <th>Number of Outs</th>\n",
       "    </tr>\n",
       "  </thead>\n",
       "  <tbody>\n",
       "    <tr>\n",
       "      <th>0</th>\n",
       "      <td>1</td>\n",
       "      <td>34xp4vRoCGJym3xR7yCVPFHoCNxv4Twseowallet: Binance-coldwallet</td>\n",
       "      <td>288,126 BTC ($13,311,388,913) / +0.00169 BTC</td>\n",
       "      <td>1.53%</td>\n",
       "      <td>2018-10-18 12:59:18 UTC</td>\n",
       "      <td>2021-09-02 12:55:00 UTC</td>\n",
       "      <td>621</td>\n",
       "      <td>2018-10-18 13:19:26 UTC</td>\n",
       "      <td>2021-07-26 14:25:53 UTC</td>\n",
       "      <td>424.0</td>\n",
       "    </tr>\n",
       "    <tr>\n",
       "      <th>1</th>\n",
       "      <td>2</td>\n",
       "      <td>bc1qgdjqv0av3q56jvd82tkdjpy7gdp9ut8tlqmgrpmv24sq90ecnvqqjw..vw97wallet: Bitfinex-coldwallet</td>\n",
       "      <td>178,011 BTC ($8,224,081,801)</td>\n",
       "      <td>0.9464%</td>\n",
       "      <td>2019-08-16 10:00:29 UTC</td>\n",
       "      <td>2021-08-26 06:57:48 UTC</td>\n",
       "      <td>70</td>\n",
       "      <td>2020-02-02 17:43:14 UTC</td>\n",
       "      <td>2021-06-25 17:58:00 UTC</td>\n",
       "      <td>66.0</td>\n",
       "    </tr>\n",
       "    <tr>\n",
       "      <th>2</th>\n",
       "      <td>3</td>\n",
       "      <td>1P5ZEDWTKTFGxQjZphgWPQUpe554WKDfHQ</td>\n",
       "      <td>108,924 BTC ($5,032,254,408) -1010 BTC / -1918 BTC</td>\n",
       "      <td>0.5791%</td>\n",
       "      <td>2019-02-06 02:18:39 UTC</td>\n",
       "      <td>2021-09-08 00:05:21 UTC</td>\n",
       "      <td>438</td>\n",
       "      <td>2019-02-10 21:58:57 UTC</td>\n",
       "      <td>2021-09-02 23:34:15 UTC</td>\n",
       "      <td>54.0</td>\n",
       "    </tr>\n",
       "    <tr>\n",
       "      <th>3</th>\n",
       "      <td>4</td>\n",
       "      <td>37XuVSEpWW4trkfmvWzegTHQt7BdktSKUswallet: 77604498</td>\n",
       "      <td>94,505 BTC ($4,366,122,611)</td>\n",
       "      <td>0.5024%</td>\n",
       "      <td>2019-09-06 03:30:05 UTC</td>\n",
       "      <td>2021-08-31 03:32:37 UTC</td>\n",
       "      <td>117</td>\n",
       "      <td>2021-07-04 03:56:36 UTC</td>\n",
       "      <td>2021-07-04 04:10:14 UTC</td>\n",
       "      <td>2.0</td>\n",
       "    </tr>\n",
       "    <tr>\n",
       "      <th>4</th>\n",
       "      <td>5</td>\n",
       "      <td>38UmuUqPCrFmQo4khkomQwZ4VbY2nZMJ67 2-of-6wallet: OKEX-coldwallet</td>\n",
       "      <td>93,566 BTC ($4,322,736,675) / +8502 BTC</td>\n",
       "      <td>0.4974%</td>\n",
       "      <td>2016-03-14 22:20:01 UTC</td>\n",
       "      <td>2021-08-26 07:19:46 UTC</td>\n",
       "      <td>262</td>\n",
       "      <td>2016-03-15 17:57:11 UTC</td>\n",
       "      <td>2021-06-11 19:41:54 UTC</td>\n",
       "      <td>131.0</td>\n",
       "    </tr>\n",
       "    <tr>\n",
       "      <th>...</th>\n",
       "      <td>...</td>\n",
       "      <td>...</td>\n",
       "      <td>...</td>\n",
       "      <td>...</td>\n",
       "      <td>...</td>\n",
       "      <td>...</td>\n",
       "      <td>...</td>\n",
       "      <td>...</td>\n",
       "      <td>...</td>\n",
       "      <td>...</td>\n",
       "    </tr>\n",
       "    <tr>\n",
       "      <th>1995</th>\n",
       "      <td>1996</td>\n",
       "      <td>1PCuHryZkaL4rqMuo6EGDs9YgpANVaSkvuwallet: 38600897</td>\n",
       "      <td>1,000 BTC ($46,199,859)</td>\n",
       "      <td>0.0053163682796292%</td>\n",
       "      <td>2018-03-23 09:10:21 UTC</td>\n",
       "      <td>2021-05-14 03:12:32 UTC</td>\n",
       "      <td>16</td>\n",
       "      <td>2018-03-23 09:52:07 UTC</td>\n",
       "      <td>2018-03-23 09:52:07 UTC</td>\n",
       "      <td>1.0</td>\n",
       "    </tr>\n",
       "    <tr>\n",
       "      <th>1996</th>\n",
       "      <td>1997</td>\n",
       "      <td>1DNMGfqyd3Uab3QKBj7RNy8FafRNi9ymxGwallet: 38600897</td>\n",
       "      <td>1,000 BTC ($46,199,859)</td>\n",
       "      <td>0.0053163682796292%</td>\n",
       "      <td>2018-03-23 09:10:21 UTC</td>\n",
       "      <td>2021-06-13 08:32:25 UTC</td>\n",
       "      <td>16</td>\n",
       "      <td>2018-03-23 09:52:07 UTC</td>\n",
       "      <td>2018-03-23 09:52:07 UTC</td>\n",
       "      <td>1.0</td>\n",
       "    </tr>\n",
       "    <tr>\n",
       "      <th>1997</th>\n",
       "      <td>1998</td>\n",
       "      <td>16m7L6UUTxDDtnYdcQDZaePtFLdz3maw3ywallet: 38600897</td>\n",
       "      <td>1,000 BTC ($46,199,859)</td>\n",
       "      <td>0.0053163682796292%</td>\n",
       "      <td>2018-03-23 09:10:21 UTC</td>\n",
       "      <td>2021-05-14 03:12:32 UTC</td>\n",
       "      <td>16</td>\n",
       "      <td>2018-03-23 09:52:07 UTC</td>\n",
       "      <td>2018-03-23 09:52:07 UTC</td>\n",
       "      <td>1.0</td>\n",
       "    </tr>\n",
       "    <tr>\n",
       "      <th>1998</th>\n",
       "      <td>1999</td>\n",
       "      <td>3CwZ1oMTQDMtJWdUqfuRd2FoTvMrcCcWs8</td>\n",
       "      <td>1,000 BTC ($46,199,859)</td>\n",
       "      <td>0.0053163682769179%</td>\n",
       "      <td>2020-04-25 03:01:48 UTC</td>\n",
       "      <td>2021-06-13 08:32:25 UTC</td>\n",
       "      <td>15</td>\n",
       "      <td>NaN</td>\n",
       "      <td>NaN</td>\n",
       "      <td>NaN</td>\n",
       "    </tr>\n",
       "    <tr>\n",
       "      <th>1999</th>\n",
       "      <td>2000</td>\n",
       "      <td>3BQF9kaqnAY8YE96h4Dq25W4ATY69MgqJN</td>\n",
       "      <td>1,000 BTC ($46,199,859)</td>\n",
       "      <td>0.0053163682769179%</td>\n",
       "      <td>2020-08-01 21:41:08 UTC</td>\n",
       "      <td>2021-06-13 08:32:25 UTC</td>\n",
       "      <td>15</td>\n",
       "      <td>NaN</td>\n",
       "      <td>NaN</td>\n",
       "      <td>NaN</td>\n",
       "    </tr>\n",
       "  </tbody>\n",
       "</table>\n",
       "<p>2000 rows × 10 columns</p>\n",
       "</div>"
      ],
      "text/plain": [
       "         0  \\\n",
       "0        1   \n",
       "1        2   \n",
       "2        3   \n",
       "3        4   \n",
       "4        5   \n",
       "...    ...   \n",
       "1995  1996   \n",
       "1996  1997   \n",
       "1997  1998   \n",
       "1998  1999   \n",
       "1999  2000   \n",
       "\n",
       "                                                                                          Address  \\\n",
       "0                                    34xp4vRoCGJym3xR7yCVPFHoCNxv4Twseowallet: Binance-coldwallet   \n",
       "1     bc1qgdjqv0av3q56jvd82tkdjpy7gdp9ut8tlqmgrpmv24sq90ecnvqqjw..vw97wallet: Bitfinex-coldwallet   \n",
       "2                                                              1P5ZEDWTKTFGxQjZphgWPQUpe554WKDfHQ   \n",
       "3                                              37XuVSEpWW4trkfmvWzegTHQt7BdktSKUswallet: 77604498   \n",
       "4                                38UmuUqPCrFmQo4khkomQwZ4VbY2nZMJ67 2-of-6wallet: OKEX-coldwallet   \n",
       "...                                                                                           ...   \n",
       "1995                                           1PCuHryZkaL4rqMuo6EGDs9YgpANVaSkvuwallet: 38600897   \n",
       "1996                                           1DNMGfqyd3Uab3QKBj7RNy8FafRNi9ymxGwallet: 38600897   \n",
       "1997                                           16m7L6UUTxDDtnYdcQDZaePtFLdz3maw3ywallet: 38600897   \n",
       "1998                                                           3CwZ1oMTQDMtJWdUqfuRd2FoTvMrcCcWs8   \n",
       "1999                                                           3BQF9kaqnAY8YE96h4Dq25W4ATY69MgqJN   \n",
       "\n",
       "                                                 Balance           % of coins  \\\n",
       "0           288,126 BTC ($13,311,388,913) / +0.00169 BTC                1.53%   \n",
       "1                           178,011 BTC ($8,224,081,801)              0.9464%   \n",
       "2     108,924 BTC ($5,032,254,408) -1010 BTC / -1918 BTC              0.5791%   \n",
       "3                            94,505 BTC ($4,366,122,611)              0.5024%   \n",
       "4                93,566 BTC ($4,322,736,675) / +8502 BTC              0.4974%   \n",
       "...                                                  ...                  ...   \n",
       "1995                             1,000 BTC ($46,199,859)  0.0053163682796292%   \n",
       "1996                             1,000 BTC ($46,199,859)  0.0053163682796292%   \n",
       "1997                             1,000 BTC ($46,199,859)  0.0053163682796292%   \n",
       "1998                             1,000 BTC ($46,199,859)  0.0053163682769179%   \n",
       "1999                             1,000 BTC ($46,199,859)  0.0053163682769179%   \n",
       "\n",
       "                     First In                  Last In  Number Of Ins  \\\n",
       "0     2018-10-18 12:59:18 UTC  2021-09-02 12:55:00 UTC            621   \n",
       "1     2019-08-16 10:00:29 UTC  2021-08-26 06:57:48 UTC             70   \n",
       "2     2019-02-06 02:18:39 UTC  2021-09-08 00:05:21 UTC            438   \n",
       "3     2019-09-06 03:30:05 UTC  2021-08-31 03:32:37 UTC            117   \n",
       "4     2016-03-14 22:20:01 UTC  2021-08-26 07:19:46 UTC            262   \n",
       "...                       ...                      ...            ...   \n",
       "1995  2018-03-23 09:10:21 UTC  2021-05-14 03:12:32 UTC             16   \n",
       "1996  2018-03-23 09:10:21 UTC  2021-06-13 08:32:25 UTC             16   \n",
       "1997  2018-03-23 09:10:21 UTC  2021-05-14 03:12:32 UTC             16   \n",
       "1998  2020-04-25 03:01:48 UTC  2021-06-13 08:32:25 UTC             15   \n",
       "1999  2020-08-01 21:41:08 UTC  2021-06-13 08:32:25 UTC             15   \n",
       "\n",
       "                    First Out                 Last Out  Number of Outs  \n",
       "0     2018-10-18 13:19:26 UTC  2021-07-26 14:25:53 UTC           424.0  \n",
       "1     2020-02-02 17:43:14 UTC  2021-06-25 17:58:00 UTC            66.0  \n",
       "2     2019-02-10 21:58:57 UTC  2021-09-02 23:34:15 UTC            54.0  \n",
       "3     2021-07-04 03:56:36 UTC  2021-07-04 04:10:14 UTC             2.0  \n",
       "4     2016-03-15 17:57:11 UTC  2021-06-11 19:41:54 UTC           131.0  \n",
       "...                       ...                      ...             ...  \n",
       "1995  2018-03-23 09:52:07 UTC  2018-03-23 09:52:07 UTC             1.0  \n",
       "1996  2018-03-23 09:52:07 UTC  2018-03-23 09:52:07 UTC             1.0  \n",
       "1997  2018-03-23 09:52:07 UTC  2018-03-23 09:52:07 UTC             1.0  \n",
       "1998                      NaN                      NaN             NaN  \n",
       "1999                      NaN                      NaN             NaN  \n",
       "\n",
       "[2000 rows x 10 columns]"
      ]
     },
     "execution_count": 10,
     "metadata": {},
     "output_type": "execute_result"
    }
   ],
   "source": [
    "result"
   ]
  },
  {
   "cell_type": "code",
   "execution_count": 65,
   "id": "42c04c17-9d55-4a86-b23e-a32e17d2c833",
   "metadata": {},
   "outputs": [],
   "source": [
    "result['First In'] = result['First In'].astype(\"datetime64\")\n",
    "result['Last In'] = result['Last In'].astype(\"datetime64\")\n",
    "result['First Out'] = result['First Out'].astype(\"datetime64\")\n",
    "result['Last Out'] = result['Last Out'].astype(\"datetime64\")"
   ]
  },
  {
   "cell_type": "code",
   "execution_count": 66,
   "id": "56b99df6-bbed-4bc5-b483-42253139f0b6",
   "metadata": {},
   "outputs": [],
   "source": [
    "result['FI_year'] = result['First In'].dt.year\n",
    "result['LI_year'] = result['Last In'].dt.year\n",
    "result['FO_year'] = result['First Out'].dt.year\n",
    "result['LO_year'] = result['Last Out'].dt.year"
   ]
  },
  {
   "cell_type": "code",
   "execution_count": 71,
   "id": "95b368c6-4e61-4bde-8e85-20f601222e16",
   "metadata": {},
   "outputs": [
    {
     "data": {
      "text/plain": [
       "<AxesSubplot:xlabel='FI_year'>"
      ]
     },
     "execution_count": 71,
     "metadata": {},
     "output_type": "execute_result"
    },
    {
     "data": {
      "image/png": "[encoded data removed]",
      "text/plain": [
       "<Figure size 432x288 with 1 Axes>"
      ]
     },
     "metadata": {
      "needs_background": "light"
     },
     "output_type": "display_data"
    }
   ],
   "source": [
    "result.groupby(axis=0,by=['FI_year'])['FI_year'].count().plot(kind=\"bar\")"
   ]
  },
  {
   "cell_type": "code",
   "execution_count": 68,
   "id": "4a685bbb-6509-4704-b435-124e4766c522",
   "metadata": {},
   "outputs": [
    {
     "data": {
      "text/plain": [
       "<AxesSubplot:xlabel='LI_year'>"
      ]
     },
     "execution_count": 68,
     "metadata": {},
     "output_type": "execute_result"
    },
    {
     "data": {
      "image/png": "[encoded data removed]",
      "text/plain": [
       "<Figure size 432x288 with 1 Axes>"
      ]
     },
     "metadata": {
      "needs_background": "light"
     },
     "output_type": "display_data"
    }
   ],
   "source": [
    "result.groupby(axis=0,by=['LI_year'])['LI_year'].count().plot(kind=\"bar\")"
   ]
  },
  {
   "cell_type": "code",
   "execution_count": 69,
   "id": "04210f6e-1c83-46d4-aff7-58b6e3aabb50",
   "metadata": {},
   "outputs": [
    {
     "data": {
      "text/plain": [
       "<AxesSubplot:xlabel='FO_year'>"
      ]
     },
     "execution_count": 69,
     "metadata": {},
     "output_type": "execute_result"
    },
    {
     "data": {
      "image/png": "[encoded data removed]",
      "text/plain": [
       "<Figure size 432x288 with 1 Axes>"
      ]
     },
     "metadata": {
      "needs_background": "light"
     },
     "output_type": "display_data"
    }
   ],
   "source": [
    "result.groupby(axis=0,by=['FO_year'])['FO_year'].count().plot(kind=\"bar\")"
   ]
  },
  {
   "cell_type": "code",
   "execution_count": 70,
   "id": "387cc1ae-8d2e-42b6-94e7-baf063f2fafc",
   "metadata": {},
   "outputs": [
    {
     "data": {
      "text/plain": [
       "<AxesSubplot:xlabel='LO_year'>"
      ]
     },
     "execution_count": 70,
     "metadata": {},
     "output_type": "execute_result"
    },
    {
     "data": {
      "image/png": "[encoded data removed]",
      "text/plain": [
       "<Figure size 432x288 with 1 Axes>"
      ]
     },
     "metadata": {
      "needs_background": "light"
     },
     "output_type": "display_data"
    }
   ],
   "source": [
    "result.groupby(axis=0,by=['LO_year'])['LO_year'].count().plot(kind=\"bar\")"
   ]
  },
  {
   "cell_type": "markdown",
   "id": "38673954-d4c9-4023-91f5-68e7259b9e80",
   "metadata": {},
   "source": [
    "Seleziona i portafogli attivi ossia con almeno 10 vendite ma non piu di 10'000'000"
   ]
  },
  {
   "cell_type": "code",
   "execution_count": 11,
   "id": "67ffe9d0-e25b-4694-9e7f-a21a6279eb21",
   "metadata": {},
   "outputs": [],
   "source": [
    "result_activ = result[(result['Number of Outs'] > 10) & (result['Number of Outs'] < 10000000)  ]  "
   ]
  },
  {
   "cell_type": "code",
   "execution_count": 12,
   "id": "ce201b90-4341-4f3c-83ff-a5ff2c8a0f01",
   "metadata": {},
   "outputs": [
    {
     "data": {
      "text/plain": [
       "(252, 10)"
      ]
     },
     "execution_count": 12,
     "metadata": {},
     "output_type": "execute_result"
    }
   ],
   "source": [
    "result_activ.shape"
   ]
  },
  {
   "cell_type": "code",
   "execution_count": null,
   "id": "80e5dfd9-c255-49cc-9e4f-ce78dd95e0c2",
   "metadata": {},
   "outputs": [],
   "source": [
    "result_activ"
   ]
  },
  {
   "cell_type": "code",
   "execution_count": 16,
   "id": "909739be-bc36-4cdd-b3f3-3f658fe4fc6d",
   "metadata": {},
   "outputs": [],
   "source": [
    "# Drop rows with missing data in critical columns\n",
    "#result = result.dropna(subset=['Number of Outs'])"
   ]
  },
  {
   "cell_type": "code",
   "execution_count": 17,
   "id": "db076640-d091-4fbb-bc7c-e37a8176daca",
   "metadata": {},
   "outputs": [],
   "source": [
    "#result.shape"
   ]
  },
  {
   "cell_type": "markdown",
   "id": "2ab1075a-6afe-4475-ba07-82a43f34ddb8",
   "metadata": {},
   "source": [
    "Estrapolare percentuali per calcolo somma"
   ]
  },
  {
   "cell_type": "code",
   "execution_count": 18,
   "id": "1010cbd7-989c-4cf5-80de-021107eba1d5",
   "metadata": {},
   "outputs": [],
   "source": [
    "result_activ_perc= [x.split('%')[0] for x in result_activ['% of coins']]\n"
   ]
  },
  {
   "cell_type": "code",
   "execution_count": null,
   "id": "4b5be7e8-3c29-4a64-b5a5-4044ebb6795f",
   "metadata": {},
   "outputs": [],
   "source": [
    "result_activ_perc"
   ]
  },
  {
   "cell_type": "code",
   "execution_count": 20,
   "id": "e1b6792d-36f8-4139-929d-915d1912ce90",
   "metadata": {},
   "outputs": [],
   "source": [
    "result_activ_perc=pd.to_numeric(result_activ_perc)"
   ]
  },
  {
   "cell_type": "code",
   "execution_count": 21,
   "id": "7363ad62-2aca-4743-b3d3-f013bb7582d9",
   "metadata": {},
   "outputs": [],
   "source": [
    "df_perc = pd.DataFrame(result_activ_perc)"
   ]
  },
  {
   "cell_type": "code",
   "execution_count": null,
   "id": "d4be43f8-1a89-4924-adf7-d6bccdf54107",
   "metadata": {},
   "outputs": [],
   "source": [
    "df_perc"
   ]
  },
  {
   "cell_type": "code",
   "execution_count": 23,
   "id": "cf11c668-1712-4441-88e7-259a4d45e7ef",
   "metadata": {},
   "outputs": [
    {
     "name": "stdout",
     "output_type": "stream",
     "text": [
      "<class 'pandas.core.frame.DataFrame'>\n",
      "RangeIndex: 252 entries, 0 to 251\n",
      "Data columns (total 1 columns):\n",
      " #   Column  Non-Null Count  Dtype  \n",
      "---  ------  --------------  -----  \n",
      " 0   0       252 non-null    float64\n",
      "dtypes: float64(1)\n",
      "memory usage: 2.1 KB\n"
     ]
    }
   ],
   "source": [
    "df_perc.info()"
   ]
  },
  {
   "cell_type": "code",
   "execution_count": 24,
   "id": "8cdadca9-8dc2-42f1-9224-2180cae18788",
   "metadata": {},
   "outputs": [
    {
     "data": {
      "text/plain": [
       "0    10.684745\n",
       "dtype: float64"
      ]
     },
     "execution_count": 24,
     "metadata": {},
     "output_type": "execute_result"
    }
   ],
   "source": [
    "df_perc.sum(axis = 0, skipna = True) "
   ]
  },
  {
   "cell_type": "markdown",
   "id": "ef3db211-d6b6-4e75-ba80-b88e1000036f",
   "metadata": {},
   "source": [
    "i primi 252 portafogli attivi detengono il 10.68% del capitale di bitcoin"
   ]
  },
  {
   "cell_type": "code",
   "execution_count": 25,
   "id": "a53ae179-a0f4-4d5b-94f9-269260f786df",
   "metadata": {},
   "outputs": [],
   "source": [
    "result_activ = result_activ[result_activ['First Out'].notna()]"
   ]
  },
  {
   "cell_type": "code",
   "execution_count": 27,
   "id": "20fe2100-f4e2-4cd9-b50e-a28046216a84",
   "metadata": {},
   "outputs": [
    {
     "data": {
      "text/plain": [
       "(252, 10)"
      ]
     },
     "execution_count": 27,
     "metadata": {},
     "output_type": "execute_result"
    }
   ],
   "source": [
    "result_activ.shape"
   ]
  },
  {
   "cell_type": "code",
   "execution_count": 42,
   "id": "e5d73e8f-11b4-42f1-8267-1d3765a79cb6",
   "metadata": {},
   "outputs": [],
   "source": [
    "result_activ = result_activ[result_activ['First In'] > '2019-01-01']"
   ]
  },
  {
   "cell_type": "code",
   "execution_count": 43,
   "id": "b4d624e6-618d-4ef8-86ef-4b4890620444",
   "metadata": {},
   "outputs": [
    {
     "data": {
      "text/plain": [
       "(40, 10)"
      ]
     },
     "execution_count": 43,
     "metadata": {},
     "output_type": "execute_result"
    }
   ],
   "source": [
    "result_activ.shape"
   ]
  },
  {
   "cell_type": "code",
   "execution_count": 32,
   "id": "9376ccdd-8612-4a7d-82da-f76afe52094b",
   "metadata": {},
   "outputs": [
    {
     "name": "stdout",
     "output_type": "stream",
     "text": [
      "<class 'pandas.core.frame.DataFrame'>\n",
      "Int64Index: 250 entries, 0 to 1728\n",
      "Data columns (total 10 columns):\n",
      " #   Column          Non-Null Count  Dtype  \n",
      "---  ------          --------------  -----  \n",
      " 0   0               250 non-null    int64  \n",
      " 1   Address         250 non-null    object \n",
      " 2   Balance         250 non-null    object \n",
      " 3   % of coins      250 non-null    object \n",
      " 4   First In        250 non-null    object \n",
      " 5   Last In         250 non-null    object \n",
      " 6   Number Of Ins   250 non-null    int64  \n",
      " 7   First Out       250 non-null    object \n",
      " 8   Last Out        250 non-null    object \n",
      " 9   Number of Outs  250 non-null    float64\n",
      "dtypes: float64(1), int64(2), object(7)\n",
      "memory usage: 21.5+ KB\n"
     ]
    }
   ],
   "source": [
    "result_activ.info()"
   ]
  },
  {
   "cell_type": "code",
   "execution_count": 33,
   "id": "afd84ccb-4686-4742-9856-f19f06de6964",
   "metadata": {},
   "outputs": [],
   "source": [
    "result_activ[\"Last Out\"] = pd.to_datetime(result_activ[\"Last Out\"])"
   ]
  },
  {
   "cell_type": "code",
   "execution_count": 34,
   "id": "c6f57fa9-b2d2-427a-bdd7-b8982b917904",
   "metadata": {},
   "outputs": [
    {
     "name": "stdout",
     "output_type": "stream",
     "text": [
      "<class 'pandas.core.frame.DataFrame'>\n",
      "Int64Index: 250 entries, 0 to 1728\n",
      "Data columns (total 10 columns):\n",
      " #   Column          Non-Null Count  Dtype              \n",
      "---  ------          --------------  -----              \n",
      " 0   0               250 non-null    int64              \n",
      " 1   Address         250 non-null    object             \n",
      " 2   Balance         250 non-null    object             \n",
      " 3   % of coins      250 non-null    object             \n",
      " 4   First In        250 non-null    object             \n",
      " 5   Last In         250 non-null    object             \n",
      " 6   Number Of Ins   250 non-null    int64              \n",
      " 7   First Out       250 non-null    object             \n",
      " 8   Last Out        250 non-null    datetime64[ns, UTC]\n",
      " 9   Number of Outs  250 non-null    float64            \n",
      "dtypes: datetime64[ns, UTC](1), float64(1), int64(2), object(6)\n",
      "memory usage: 21.5+ KB\n"
     ]
    }
   ],
   "source": [
    "result_activ.info()"
   ]
  },
  {
   "cell_type": "code",
   "execution_count": 37,
   "id": "442818df-c3da-45f0-b5a3-8633782c7fe3",
   "metadata": {},
   "outputs": [],
   "source": [
    "result2019 = result_activ[(result_activ['Last Out'] > '2017-01-01')]\n",
    "#result = result[[result['Last In'] < '2019-01-01']] "
   ]
  },
  {
   "cell_type": "code",
   "execution_count": 39,
   "id": "b2476bae-1742-4daf-a29b-9f37939a9430",
   "metadata": {},
   "outputs": [
    {
     "data": {
      "text/plain": [
       "(243, 10)"
      ]
     },
     "execution_count": 39,
     "metadata": {},
     "output_type": "execute_result"
    }
   ],
   "source": [
    "result2019.shape"
   ]
  },
  {
   "cell_type": "code",
   "execution_count": 38,
   "id": "ef80811e-24af-408e-b8b2-2fc89e01fccf",
   "metadata": {},
   "outputs": [
    {
     "data": {
      "text/html": [
       "<div>\n",
       "<style scoped>\n",
       "    .dataframe tbody tr th:only-of-type {\n",
       "        vertical-align: middle;\n",
       "    }\n",
       "\n",
       "    .dataframe tbody tr th {\n",
       "        vertical-align: top;\n",
       "    }\n",
       "\n",
       "    .dataframe thead th {\n",
       "        text-align: right;\n",
       "    }\n",
       "</style>\n",
       "<table border=\"1\" class=\"dataframe\">\n",
       "  <thead>\n",
       "    <tr style=\"text-align: right;\">\n",
       "      <th></th>\n",
       "      <th>0</th>\n",
       "      <th>Address</th>\n",
       "      <th>Balance</th>\n",
       "      <th>% of coins</th>\n",
       "      <th>First In</th>\n",
       "      <th>Last In</th>\n",
       "      <th>Number Of Ins</th>\n",
       "      <th>First Out</th>\n",
       "      <th>Last Out</th>\n",
       "      <th>Number of Outs</th>\n",
       "    </tr>\n",
       "  </thead>\n",
       "  <tbody>\n",
       "    <tr>\n",
       "      <th>0</th>\n",
       "      <td>1</td>\n",
       "      <td>34xp4vRoCGJym3xR7yCVPFHoCNxv4Twseowallet: Binance-coldwallet</td>\n",
       "      <td>288,126 BTC ($13,311,388,913) / +0.00169 BTC</td>\n",
       "      <td>1.53%</td>\n",
       "      <td>2018-10-18 12:59:18 UTC</td>\n",
       "      <td>2021-09-02 12:55:00 UTC</td>\n",
       "      <td>621</td>\n",
       "      <td>2018-10-18 13:19:26 UTC</td>\n",
       "      <td>2021-07-26 14:25:53+00:00</td>\n",
       "      <td>424.0</td>\n",
       "    </tr>\n",
       "    <tr>\n",
       "      <th>1</th>\n",
       "      <td>2</td>\n",
       "      <td>bc1qgdjqv0av3q56jvd82tkdjpy7gdp9ut8tlqmgrpmv24sq90ecnvqqjw..vw97wallet: Bitfinex-coldwallet</td>\n",
       "      <td>178,011 BTC ($8,224,081,801)</td>\n",
       "      <td>0.9464%</td>\n",
       "      <td>2019-08-16 10:00:29 UTC</td>\n",
       "      <td>2021-08-26 06:57:48 UTC</td>\n",
       "      <td>70</td>\n",
       "      <td>2020-02-02 17:43:14 UTC</td>\n",
       "      <td>2021-06-25 17:58:00+00:00</td>\n",
       "      <td>66.0</td>\n",
       "    </tr>\n",
       "    <tr>\n",
       "      <th>2</th>\n",
       "      <td>3</td>\n",
       "      <td>1P5ZEDWTKTFGxQjZphgWPQUpe554WKDfHQ</td>\n",
       "      <td>108,924 BTC ($5,032,254,408) -1010 BTC / -1918 BTC</td>\n",
       "      <td>0.5791%</td>\n",
       "      <td>2019-02-06 02:18:39 UTC</td>\n",
       "      <td>2021-09-08 00:05:21 UTC</td>\n",
       "      <td>438</td>\n",
       "      <td>2019-02-10 21:58:57 UTC</td>\n",
       "      <td>2021-09-02 23:34:15+00:00</td>\n",
       "      <td>54.0</td>\n",
       "    </tr>\n",
       "    <tr>\n",
       "      <th>4</th>\n",
       "      <td>5</td>\n",
       "      <td>38UmuUqPCrFmQo4khkomQwZ4VbY2nZMJ67 2-of-6wallet: OKEX-coldwallet</td>\n",
       "      <td>93,566 BTC ($4,322,736,675) / +8502 BTC</td>\n",
       "      <td>0.4974%</td>\n",
       "      <td>2016-03-14 22:20:01 UTC</td>\n",
       "      <td>2021-08-26 07:19:46 UTC</td>\n",
       "      <td>262</td>\n",
       "      <td>2016-03-15 17:57:11 UTC</td>\n",
       "      <td>2021-06-11 19:41:54+00:00</td>\n",
       "      <td>131.0</td>\n",
       "    </tr>\n",
       "    <tr>\n",
       "      <th>5</th>\n",
       "      <td>6</td>\n",
       "      <td>3Kzh9qAqVWQhEsfQz7zEQL1EuSx5tyNLNS 2-of-3wallet: OKEX-coldwallet</td>\n",
       "      <td>81,512 BTC ($3,765,841,999) -695 BTC / +4252 BTC</td>\n",
       "      <td>0.4333%</td>\n",
       "      <td>2015-08-25 00:28:20 UTC</td>\n",
       "      <td>2021-09-08 03:08:23 UTC</td>\n",
       "      <td>1167</td>\n",
       "      <td>2015-08-25 20:44:05 UTC</td>\n",
       "      <td>2021-09-08 03:08:23+00:00</td>\n",
       "      <td>1007.0</td>\n",
       "    </tr>\n",
       "  </tbody>\n",
       "</table>\n",
       "</div>"
      ],
      "text/plain": [
       "   0  \\\n",
       "0  1   \n",
       "1  2   \n",
       "2  3   \n",
       "4  5   \n",
       "5  6   \n",
       "\n",
       "                                                                                       Address  \\\n",
       "0                                 34xp4vRoCGJym3xR7yCVPFHoCNxv4Twseowallet: Binance-coldwallet   \n",
       "1  bc1qgdjqv0av3q56jvd82tkdjpy7gdp9ut8tlqmgrpmv24sq90ecnvqqjw..vw97wallet: Bitfinex-coldwallet   \n",
       "2                                                           1P5ZEDWTKTFGxQjZphgWPQUpe554WKDfHQ   \n",
       "4                             38UmuUqPCrFmQo4khkomQwZ4VbY2nZMJ67 2-of-6wallet: OKEX-coldwallet   \n",
       "5                             3Kzh9qAqVWQhEsfQz7zEQL1EuSx5tyNLNS 2-of-3wallet: OKEX-coldwallet   \n",
       "\n",
       "                                              Balance % of coins  \\\n",
       "0        288,126 BTC ($13,311,388,913) / +0.00169 BTC      1.53%   \n",
       "1                        178,011 BTC ($8,224,081,801)    0.9464%   \n",
       "2  108,924 BTC ($5,032,254,408) -1010 BTC / -1918 BTC    0.5791%   \n",
       "4             93,566 BTC ($4,322,736,675) / +8502 BTC    0.4974%   \n",
       "5    81,512 BTC ($3,765,841,999) -695 BTC / +4252 BTC    0.4333%   \n",
       "\n",
       "                  First In                  Last In  Number Of Ins  \\\n",
       "0  2018-10-18 12:59:18 UTC  2021-09-02 12:55:00 UTC            621   \n",
       "1  2019-08-16 10:00:29 UTC  2021-08-26 06:57:48 UTC             70   \n",
       "2  2019-02-06 02:18:39 UTC  2021-09-08 00:05:21 UTC            438   \n",
       "4  2016-03-14 22:20:01 UTC  2021-08-26 07:19:46 UTC            262   \n",
       "5  2015-08-25 00:28:20 UTC  2021-09-08 03:08:23 UTC           1167   \n",
       "\n",
       "                 First Out                  Last Out  Number of Outs  \n",
       "0  2018-10-18 13:19:26 UTC 2021-07-26 14:25:53+00:00           424.0  \n",
       "1  2020-02-02 17:43:14 UTC 2021-06-25 17:58:00+00:00            66.0  \n",
       "2  2019-02-10 21:58:57 UTC 2021-09-02 23:34:15+00:00            54.0  \n",
       "4  2016-03-15 17:57:11 UTC 2021-06-11 19:41:54+00:00           131.0  \n",
       "5  2015-08-25 20:44:05 UTC 2021-09-08 03:08:23+00:00          1007.0  "
      ]
     },
     "execution_count": 38,
     "metadata": {},
     "output_type": "execute_result"
    }
   ],
   "source": [
    "result2019.head()"
   ]
  },
  {
   "cell_type": "code",
   "execution_count": null,
   "id": "8691f336-984c-409c-94fc-f0b07b0d5a40",
   "metadata": {},
   "outputs": [],
   "source": [
    "result2019 = result2019[['Address']] "
   ]
  },
  {
   "cell_type": "code",
   "execution_count": null,
   "id": "5d8ceaa7-7436-4615-aa3c-2cd4fd7ca6fa",
   "metadata": {},
   "outputs": [],
   "source": [
    "result2019['Address'] = result2019['Address'].astype(str)"
   ]
  },
  {
   "cell_type": "code",
   "execution_count": null,
   "id": "f8b6720b-feca-4279-a78f-54424a423e8b",
   "metadata": {},
   "outputs": [],
   "source": [
    "result2019['Address_new'] = [x.split('wallet')[0] for x in result2019['Address']]"
   ]
  },
  {
   "cell_type": "code",
   "execution_count": null,
   "id": "68a1e333-8ef4-45a9-844e-5ba2236a0d6f",
   "metadata": {},
   "outputs": [],
   "source": [
    "result2019['Address_new'] = [x.split(' ')[0] for x in result2019['Address_new']]"
   ]
  },
  {
   "cell_type": "code",
   "execution_count": null,
   "id": "26dec319-939c-4685-bbec-8907a1445de1",
   "metadata": {},
   "outputs": [],
   "source": [
    "result2019=result2019.drop('Address',1)"
   ]
  },
  {
   "cell_type": "code",
   "execution_count": null,
   "id": "113aa807-2874-47f0-960a-d12f04c70a70",
   "metadata": {},
   "outputs": [],
   "source": [
    "result2019"
   ]
  },
  {
   "cell_type": "code",
   "execution_count": null,
   "id": "08001db3-72f6-40a7-b6ee-3141aafe604a",
   "metadata": {},
   "outputs": [],
   "source": [
    "result2019.to_csv('list address.csv',index=False, header=True)"
   ]
  },
  {
   "cell_type": "code",
   "execution_count": null,
   "id": "ada5763a-ba97-4337-8226-b54543ed60f3",
   "metadata": {},
   "outputs": [],
   "source": [
    "result2019=pd.read_csv('list address.csv')"
   ]
  },
  {
   "cell_type": "code",
   "execution_count": null,
   "id": "df7582f4-2753-46da-b8c9-cd8b068fc2db",
   "metadata": {},
   "outputs": [],
   "source": [
    "result2019.shape"
   ]
  },
  {
   "cell_type": "code",
   "execution_count": null,
   "id": "ed61c8c2-e8dc-4713-bf79-387cf07b848c",
   "metadata": {},
   "outputs": [],
   "source": []
  }
 ],
 "metadata": {
  "kernelspec": {
   "display_name": "Python",
   "language": "python",
   "name": "conda-env-python-py"
  },
  "language_info": {
   "codemirror_mode": {
    "name": "ipython",
    "version": 3
   },
   "file_extension": ".py",
   "mimetype": "text/x-python",
   "name": "python",
   "nbconvert_exporter": "python",
   "pygments_lexer": "ipython3",
   "version": "3.6.13"
  }
 },
 "nbformat": 4,
 "nbformat_minor": 5
}
